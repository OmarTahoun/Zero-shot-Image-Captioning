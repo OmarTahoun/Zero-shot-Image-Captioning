{
 "cells": [
  {
   "cell_type": "code",
   "execution_count": null,
   "metadata": {},
   "outputs": [],
   "source": [
    "import tensorflow as tf\n",
    "import tensorflow_datasets as tfds\n",
    "\n",
    "# Load the MS COCO dataset\n",
    "data, info = tfds.load(\"coco/2014\", with_info=True)\n",
    "\n",
    "# Preprocess the captions\n",
    "tokenizer = tfds.deprecated.text.SubwordTextEncoder.build_from_corpus(\n",
    "    (caption.numpy() for example in data[\"train\"] for caption in example[\"captions\"]),\n",
    "    target_vocab_size=2**13)"
   ]
  },
  {
   "cell_type": "code",
   "execution_count": null,
   "metadata": {},
   "outputs": [],
   "source": [
    "def encode_caption(caption):\n",
    "    \"\"\"Encode the caption with the tokenizer\"\"\"\n",
    "    caption = \"<start> \" + caption + \" <end>\"\n",
    "    return tokenizer.encode(caption)\n",
    "\n",
    "def preprocess(example):\n",
    "    \"\"\"Preprocess an example (image and captions)\"\"\"\n",
    "    image = tf.image.resize(example[\"image\"], (224, 224))\n",
    "    caption = tf.random.shuffle(example[\"captions\"])[0]\n",
    "    caption = encode_caption(caption)\n",
    "    return image, caption"
   ]
  },
  {
   "cell_type": "code",
   "execution_count": null,
   "metadata": {},
   "outputs": [],
   "source": [
    "# Prepare the dataset\n",
    "train_data = data[\"train\"].map(preprocess).batch(32)\n",
    "\n",
    "# Define the model architecture\n",
    "image_model = tf.keras.applications.InceptionV3(include_top=False, weights=\"imagenet\")\n",
    "image_features_extractor = tf.keras.Model(image_model.input, image_model.layers[-1].output)\n",
    "caption_model = tf.keras.Sequential([\n",
    "    tf.keras.layers.Embedding(tokenizer.vocab_size, 256),\n",
    "    tf.keras.layers.LSTM(256),\n",
    "    tf.keras.layers.Dense(256, activation=\"relu\"),\n",
    "    tf.keras.layers.Dense(tokenizer.vocab_size, activation=\"softmax\")\n",
    "])\n",
    "\n",
    "# Define the loss function and optimizer\n",
    "loss_fn = tf.keras.losses.SparseCategoricalCrossentropy()\n",
    "optimizer = tf.keras.optimizers.Adam()\n",
    "\n",
    "# Define the training step\n",
    "@tf.function\n",
    "def train_step(images, captions):\n",
    "    with tf.GradientTape() as tape:\n",
    "        # Extract the image features\n",
    "        features = image_features_extractor(images)\n",
    "        # Initialize the LSTM state with zeros\n",
    "        state = caption_model.layers[0].get_initial_state(batch_size=features.shape[0])\n",
    "        # Feed the image features and the captions to the caption model\n",
    "        inputs = tf.concat([tf.expand_dims(features, 1), captions[:, :-1]], axis=1)\n",
    "        logits = caption_model(inputs, initial_state=state)\n",
    "        # Compute the loss\n",
    "        loss = loss_fn(captions[:, 1:], logits)\n",
    "    # Update the model parameters\n",
    "    gradients = tape.gradient(loss, caption_model.trainable_variables)\n",
    "    optimizer.apply_gradients(zip(gradients, caption_model.trainable_variables))\n",
    "    return loss"
   ]
  },
  {
   "cell_type": "code",
   "execution_count": null,
   "metadata": {},
   "outputs": [],
   "source": [
    "# Train the model\n",
    "for epoch in range(10):\n",
    "    for images, captions in train_data:\n",
    "        loss = train_step(images, captions)\n",
    "        print(f\"Epoch {epoch+1}, Loss {loss.numpy():.4f}\")"
   ]
  },
  {
   "cell_type": "code",
   "execution_count": null,
   "metadata": {},
   "outputs": [],
   "source": [
    "# Use the model for zero-shot image captioning\n",
    "def generate_caption(image, prompt):\n",
    "    \"\"\"Generate a caption for the image with the given prompt\"\"\"\n",
    "    prompt = encode_caption(prompt)\n",
    "    # Extract the image features\n",
    "    features = image_features_extractor(image)\n",
    "    # Initialize the LSTM state with zeros\n",
    "    state = caption_model.layers[0].get_initial_state(batch_size=1)\n",
    "    # Feed the image features and the prompt to the caption model\n",
    "    inputs = tf.concat([tf.expand_dims(features, 1), prompt[:, :-1]], axis=1)\n",
    "    logits = caption_model(inputs, initial_state=state)\n",
    "    # Decode the predicted caption\n",
    "    predicted_caption = tokenizer.decode([tf.argmax(logits[0, i]).numpy() for i in range(logits.shape[1])])\n",
    "    return predicted_caption"
   ]
  }
 ],
 "metadata": {
  "kernelspec": {
   "display_name": "Python 3",
   "language": "python",
   "name": "python3"
  },
  "language_info": {
   "codemirror_mode": {
    "name": "ipython",
    "version": 3
   },
   "file_extension": ".py",
   "mimetype": "text/x-python",
   "name": "python",
   "nbconvert_exporter": "python",
   "pygments_lexer": "ipython3",
   "version": "3.10.11"
  },
  "orig_nbformat": 4
 },
 "nbformat": 4,
 "nbformat_minor": 2
}
